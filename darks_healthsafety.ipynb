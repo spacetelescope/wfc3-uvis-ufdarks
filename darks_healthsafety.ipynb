{
 "cells": [
  {
   "cell_type": "code",
   "execution_count": 4,
   "metadata": {},
   "outputs": [],
   "source": [
    "import numpy as np\n",
    "from astropy.io import fits\n",
    "\n",
    "from wfc3tools import calwf3\n",
    "from automated_scripts.cal_uvis_make_darks import monitoring_bokeh_plots as mbp\n",
    "from automated_scripts.cal_uvis_make_darks import dark_stats as ds"
   ]
  },
  {
   "cell_type": "code",
   "execution_count": null,
   "metadata": {},
   "outputs": [],
   "source": [
    "def checkup(asn):\n",
    "    \"\"\"This function was created to conduct a health and safety check\n",
    "    on incoming WFC3/UVIS internal darks. \n",
    "    The ``checkup`` function will create a similar plot to the darks\n",
    "    monitoring automated output plots located in WFC3 Quicklook, in\n",
    "    order to monitor the internal darks.\n",
    "    \n",
    "    Important: Must be run in same directory where ``raw`` and ``asn``\n",
    "    fits files reside. \n",
    "    \n",
    "    Parameters\n",
    "    ----------\n",
    "    asn : str \n",
    "        The ``asn`` table for the dark exposures that will be processed\n",
    "        through calwf3.\n",
    "        \n",
    "    \"\"\"\n",
    "    calwf3(asn, save_tmp=True)\n",
    "    \n",
    "    # pulling in QL data (we will be building from that)\n",
    "    for ext in [1,4]:\n",
    "        filename_ql, x_ql, y_ql = mbp.get_data()"
   ]
  }
 ],
 "metadata": {
  "kernelspec": {
   "display_name": "Python 3",
   "language": "python",
   "name": "python3"
  },
  "language_info": {
   "codemirror_mode": {
    "name": "ipython",
    "version": 3
   },
   "file_extension": ".py",
   "mimetype": "text/x-python",
   "name": "python",
   "nbconvert_exporter": "python",
   "pygments_lexer": "ipython3",
   "version": "3.5.5"
  }
 },
 "nbformat": 4,
 "nbformat_minor": 2
}
