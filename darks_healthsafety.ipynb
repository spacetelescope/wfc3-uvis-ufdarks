{
 "cells": [
  {
   "cell_type": "code",
   "execution_count": 4,
   "metadata": {},
   "outputs": [],
   "source": [
    "import numpy as np\n",
    "import matplotlib.pyplot as plt\n",
    "from astropy.io import fits\n",
    "\n",
    "from wfc3tools import calwf3\n",
    "from automated_scripts.cal_uvis_make_darks import monitoring_bokeh_plots as mbp\n",
    "from automated_scripts.cal_uvis_make_darks import dark_stats as ds"
   ]
  },
  {
   "cell_type": "code",
   "execution_count": null,
   "metadata": {},
   "outputs": [],
   "source": [
    "def checkup(asn):\n",
    "    \"\"\"This function was created to conduct a health and safety check\n",
    "    on incoming WFC3/UVIS internal darks. \n",
    "    The ``checkup`` function will create similar plots to the darks\n",
    "    monitoring automated output plots located in WFC3 Quicklook, in\n",
    "    order to monitor the internal darks [1].\n",
    "    \n",
    "    Important: Must be run in same directory where ``raw`` and ``asn``\n",
    "    fits files reside. \n",
    "    \n",
    "    Parameters\n",
    "    ----------\n",
    "    asn : str \n",
    "        The ``asn`` table for the dark exposures that will be processed\n",
    "        through calwf3.\n",
    "        \n",
    "    Notes \n",
    "    -----\n",
    "    [1] We will not CTE correct the individual exposures. \n",
    "        \n",
    "    \"\"\"\n",
    "    # step 1: processing the raws to get blv_tmp.fits files\n",
    "    calwf3(asn, save_tmp=True)\n",
    "    \n",
    "    # step 2: get dark statistics from the blv_tmps (midpt, hotpix)\n",
    "    midpt_expstart, midpt_ext1, midpt_ext4 = ds.get_dark_median()\n",
    "    hp_expstart, hp_ext1, hp_ext4 = ds.get_hotpix()\n",
    "    \n",
    "    \n",
    "    # step 3: get previously calculated dark statistics from pre-existing blv_tmps\n",
    "    for ext in [1,4]:\n",
    "        filename_ql, x_ql, y_ql = mbp.get_data()\n",
    "        \n",
    "    # step 4: plot all data together \n",
    "    fig, axs = plt.subplots(2,1,figsize=(6,12))\n",
    "    \n",
    "    # chip1\n",
    "    axs[0].scatter() # incoming darks\n",
    "    axs[0].scatter() # preexisting darks\n",
    "    # chip2\n",
    "    axs[1].scatter() # incoming darks\n",
    "    axs[1].scatter() # preexisting darks"
   ]
  }
 ],
 "metadata": {
  "kernelspec": {
   "display_name": "Python 3",
   "language": "python",
   "name": "python3"
  },
  "language_info": {
   "codemirror_mode": {
    "name": "ipython",
    "version": 3
   },
   "file_extension": ".py",
   "mimetype": "text/x-python",
   "name": "python",
   "nbconvert_exporter": "python",
   "pygments_lexer": "ipython3",
   "version": "3.5.5"
  }
 },
 "nbformat": 4,
 "nbformat_minor": 2
}
