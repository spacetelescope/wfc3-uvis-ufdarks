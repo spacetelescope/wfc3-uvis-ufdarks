{
 "cells": [
  {
   "cell_type": "code",
   "execution_count": 15,
   "metadata": {},
   "outputs": [],
   "source": [
    "import os\n",
    "import numpy as np\n",
    "import matplotlib.pyplot as plt\n",
    "\n",
    "from glob import glob\n",
    "from astropy.table import Table\n",
    "from automated_scripts.cal_uvis_make_darks import dark_stats as ds"
   ]
  },
  {
   "cell_type": "markdown",
   "metadata": {},
   "source": [
    "### Making the median dark current .dat files for unflashed and postflashed ref files"
   ]
  },
  {
   "cell_type": "code",
   "execution_count": 17,
   "metadata": {},
   "outputs": [],
   "source": [
    "# first for unflashed superdarks\n",
    "uf_loc = '/grp/hst/wfc3e/jmedina/uf_pl/superdarks'# location of the unflashed superdarks\n",
    "superdarks = glob(os.path.join(uf_loc,'*'))\n",
    "\"\"\"\n",
    "expstarts = []\n",
    "midpts_ext1 = []\n",
    "midpts_ext4 = []\n",
    "\n",
    "for superdark in superdarks:\n",
    "    expstart, midpt_ext1, midpt_ext4 = ds.get_dark_median(superdark, 'superdarks')\n",
    "    expstarts.append(expstart)\n",
    "    midpts_ext1.append(midpt_ext1)\n",
    "    midpts_ext4.append(midpt_ext4)\n",
    " \n",
    "# putting into a table\n",
    "t = Table([expstarts, midpts_ext1, midpts_ext4], names=('expstart', 'midpt_ext1', 'midpt_ext4'))\n",
    "t.write('uf_midpt.txt', format='ascii')\n",
    "\"\"\" "
   ]
  },
  {
   "cell_type": "code",
   "execution_count": null,
   "metadata": {},
   "outputs": [],
   "source": [
    "# then for postflashed superdarks\n",
    "# note: we are making the actual .dat files to put under /new_algorithm/superdarks/midpt\n",
    "# directory for the quicklook darks monitor project\n",
    "\n",
    "pf_loc = '/grp/hst/wfc3e/jmedina/uf_pl/superdarks'# location of the unflashed superdarks\n",
    "pf_superdarks = glob(os.path.join(uf_loc,'*'))\n",
    "\n",
    "pf_expstarts = []\n",
    "pf_midpts_ext1 = []\n",
    "pf_midpts_ext4 = []\n",
    "\n",
    "for pf_superdark in pf_superdarks:\n",
    "    expstart, midpt_ext1, midpt_ext4 = ds.get_dark_median(superdark, 'superdarks')\n",
    "    pf_expstarts.append(expstart)\n",
    "    pf_midpts_ext1.append(midpt_ext1)\n",
    "    pf_midpts_ext4.append(midpt_ext4)\n",
    " \n",
    "# putting into a table\n"
   ]
  },
  {
   "cell_type": "markdown",
   "metadata": {},
   "source": [
    "# Plotting"
   ]
  },
  {
   "cell_type": "code",
   "execution_count": null,
   "metadata": {},
   "outputs": [],
   "source": [
    "%matplotlib qt\n",
    "\n",
    "# adding sic&dh lockup lines\n",
    "# adding shaded anneals \n",
    "# adding postflash start\n",
    "\n",
    "fig, axs = plt.subplots(nrows=2,ncols=1,sharex=True)\n",
    "# chip 1\n",
    "axs[0].scatter(expstarts, midpts_ext4, s=20.0,color='coral', alpha=1, edgecolor='black',\n",
    "            linewidth=0.3)\n",
    "axs[0].scatter(pf_expstarts, pf_midpts_ext4, s=20.0,color='grey', alpha=1, edgecolor='black',\n",
    "            linewidth=0.3)\n",
    "# chip 2\n",
    "axs[1].scatter(expstarts, midpts_ext1, s=20.0,color='coral', alpha=1, edgecolor='black',\n",
    "            linewidth=0.3)\n",
    "axs[1].scatter(pf_expstarts, pf_midpts_ext1, s=20.0,color='grey', alpha=1, edgecolor='black',\n",
    "            linewidth=0.3)"
   ]
  }
 ],
 "metadata": {
  "kernelspec": {
   "display_name": "Python 3",
   "language": "python",
   "name": "python3"
  },
  "language_info": {
   "codemirror_mode": {
    "name": "ipython",
    "version": 3
   },
   "file_extension": ".py",
   "mimetype": "text/x-python",
   "name": "python",
   "nbconvert_exporter": "python",
   "pygments_lexer": "ipython3",
   "version": "3.5.5"
  }
 },
 "nbformat": 4,
 "nbformat_minor": 2
}
